{
  "cells": [
    {
      "cell_type": "markdown",
      "metadata": {
        "id": "4WH1Pr4KQlCh"
      },
      "source": [
        "#Capstone Project on Image Classification - Fashion Industry"
      ]
    },
    {
      "cell_type": "markdown",
      "metadata": {
        "id": "M3QKoiwrFfQa"
      },
      "source": [
        "This is a dataset of 60,000 28x28 grayscale images of 10 fashion categories, along with a test set of 10,000 images.\n",
        "\n",
        "### Data Set -\n",
        "Domain: Image classification\n",
        "Data: https://keras.io/api/datasets/fashion_mnist/\n",
        "\n",
        "\n",
        "Label\tDescription\n",
        "0:\tT-shirt/top\n",
        "\n",
        "1:\tTrouser\n",
        "\n",
        "2:\tPullover\n",
        "\n",
        "3:\tDress\n",
        "\n",
        "4:\tCoat\n",
        "\n",
        "5:\tSandal\n",
        "\n",
        "6:\tShirt\n",
        "\n",
        "7:\tSneaker\n",
        "\n",
        "8:\tBag\n",
        "\n",
        "9:\tAnkle boot\n",
        "\n",
        "\n",
        "\n",
        " - - - - - - - - - - - - - - - - - - - - - - - - - - - - - - - - - - - - - - - - - - - - - - - "
      ]
    },
    {
      "cell_type": "markdown",
      "metadata": {
        "id": "74Nl7MD_Ghhk"
      },
      "source": [
        "##Objective\n",
        "\n",
        "Classify the image into different classes, using the values of 784 pixels as features"
      ]
    },
    {
      "cell_type": "markdown",
      "metadata": {
        "id": "74cQBsi5QlCw"
      },
      "source": [
        "## Question 1\n",
        "\n",
        "### Collect Fashion mnist data from tf.keras.datasets \n",
        "- Check the shape of the data"
      ]
    },
    {
      "cell_type": "code",
      "execution_count": 13,
      "metadata": {
        "id": "wVWy0oDTr2Kj"
      },
      "outputs": [],
      "source": [
        "import pandas as pd\n",
        "import tensorflow as tf\n",
        "\n",
        "#Loading the dataset into training and tests sets\n",
        "(x_train,y_train),(x_test,y_test) = tf.keras.datasets.fashion_mnist.load_data()\n"
      ]
    },
    {
      "cell_type": "code",
      "execution_count": 14,
      "metadata": {
        "id": "llJT88lFHYhx",
        "colab": {
          "base_uri": "https://localhost:8080/",
          "height": 0
        },
        "outputId": "aaeb8a28-0f1d-457c-f370-baa934c68cf6"
      },
      "outputs": [
        {
          "output_type": "stream",
          "name": "stdout",
          "text": [
            "x_train:  (60000, 28, 28)\n",
            "y_train:  (60000,)\n",
            "x_test:  (10000, 28, 28)\n",
            "y_test:  (10000,)\n"
          ]
        }
      ],
      "source": [
        "#Shape of sets\n",
        "print(\"x_train: \",x_train.shape)\n",
        "print(\"y_train: \",y_train.shape)\n",
        "print(\"x_test: \",x_test.shape)\n",
        "print(\"y_test: \",y_test.shape)"
      ]
    },
    {
      "cell_type": "markdown",
      "metadata": {
        "id": "7nyZXkXhlOL2"
      },
      "source": [
        "### Display first 10 images along with their labels"
      ]
    },
    {
      "cell_type": "code",
      "execution_count": 15,
      "metadata": {
        "id": "AslrjQvvjQ0G",
        "colab": {
          "base_uri": "https://localhost:8080/",
          "height": 2657
        },
        "outputId": "a34dd8bc-c383-4d98-fed6-5e88d3c91510"
      },
      "outputs": [
        {
          "output_type": "display_data",
          "data": {
            "text/plain": [
              "<Figure size 432x288 with 1 Axes>"
            ],
            "image/png": "[encoded data removed]"
          },
          "metadata": {
            "needs_background": "light"
          }
        },
        {
          "output_type": "display_data",
          "data": {
            "text/plain": [
              "<Figure size 432x288 with 1 Axes>"
            ],
            "image/png": "[encoded data removed]"
          },
          "metadata": {
            "needs_background": "light"
          }
        },
        {
          "output_type": "display_data",
          "data": {
            "text/plain": [
              "<Figure size 432x288 with 1 Axes>"
            ],
            "image/png": "[encoded data removed]"
          },
          "metadata": {
            "needs_background": "light"
          }
        },
        {
          "output_type": "display_data",
          "data": {
            "text/plain": [
              "<Figure size 432x288 with 1 Axes>"
            ],
            "image/png": "[encoded data removed]"
          },
          "metadata": {
            "needs_background": "light"
          }
        },
        {
          "output_type": "display_data",
          "data": {
            "text/plain": [
              "<Figure size 432x288 with 1 Axes>"
            ],
            "image/png": "[encoded data removed]"
          },
          "metadata": {
            "needs_background": "light"
          }
        },
        {
          "output_type": "display_data",
          "data": {
            "text/plain": [
              "<Figure size 432x288 with 1 Axes>"
            ],
            "image/png": "[encoded data removed]"
          },
          "metadata": {
            "needs_background": "light"
          }
        },
        {
          "output_type": "display_data",
          "data": {
            "text/plain": [
              "<Figure size 432x288 with 1 Axes>"
            ],
            "image/png": "[encoded data removed]"
          },
          "metadata": {
            "needs_background": "light"
          }
        },
        {
          "output_type": "display_data",
          "data": {
            "text/plain": [
              "<Figure size 432x288 with 1 Axes>"
            ],
            "image/png": "[encoded data removed]"
          },
          "metadata": {
            "needs_background": "light"
          }
        },
        {
          "output_type": "display_data",
          "data": {
            "text/plain": [
              "<Figure size 432x288 with 1 Axes>"
            ],
            "image/png": "[encoded data removed]"
          },
          "metadata": {
            "needs_background": "light"
          }
        },
        {
          "output_type": "display_data",
          "data": {
            "text/plain": [
              "<Figure size 432x288 with 1 Axes>"
            ],
            "image/png": "[encoded data removed]"
          },
          "metadata": {
            "needs_background": "light"
          }
        }
      ],
      "source": [
        "%matplotlib inline\n",
        "#First 10 Images with their labels\n",
        "import matplotlib.pyplot as plt\n",
        "for num in range(0,10):\n",
        "    \n",
        "    #Print this sample's label \n",
        "    label = y_train[num] \n",
        "    \n",
        "    #Reshape the 784 values to a 28x28 image\n",
        "    image = x_train[num]\n",
        "    \n",
        "    # show the gray scale\n",
        "    plt.title('Sample: %d  Label: %d' % (num, label))\n",
        "    plt.imshow(image, cmap=plt.get_cmap('gray_r'))\n",
        "    plt.show()\n"
      ]
    },
    {
      "cell_type": "markdown",
      "metadata": {
        "id": "no7aWYZyQlC1"
      },
      "source": [
        "## Question 2\n",
        "\n",
        "### Change train and test labels into one-hot vectors\n",
        "- Check the shape of labels after one hot encoding"
      ]
    },
    {
      "cell_type": "code",
      "execution_count": 16,
      "metadata": {
        "id": "UX6otc4wQlC2"
      },
      "outputs": [],
      "source": [
        "import numpy as np\n",
        "\n",
        "num_classes = 10\n",
        "\n",
        "x_train = np.expand_dims(x_train, -1)\n",
        "x_test = np.expand_dims(x_test, -1)\n",
        "\n",
        "y_train = tf.keras.utils.to_categorical(y_train,num_classes)\n",
        "y_test = tf.keras.utils.to_categorical(y_test, num_classes)\n"
      ]
    },
    {
      "cell_type": "code",
      "execution_count": 17,
      "metadata": {
        "id": "JaWMbEEcKsJ9",
        "colab": {
          "base_uri": "https://localhost:8080/",
          "height": 0
        },
        "outputId": "9ca769b9-5d0f-41fe-9eab-5e51c7470fb3"
      },
      "outputs": [
        {
          "output_type": "stream",
          "name": "stdout",
          "text": [
            "(60000, 28, 28, 1) (10000, 28, 28, 1)\n",
            "(60000, 10) (10000, 10)\n"
          ]
        }
      ],
      "source": [
        "print(x_train.shape,x_test.shape)\n",
        "print(y_train.shape,y_test.shape)"
      ]
    },
    {
      "cell_type": "markdown",
      "metadata": {
        "id": "tLCwfCR2LTAd"
      },
      "source": [
        "### Normalize the pixel values"
      ]
    },
    {
      "cell_type": "code",
      "execution_count": 18,
      "metadata": {
        "id": "MM5KVp5fL7Ne"
      },
      "outputs": [],
      "source": [
        "#Normalizing pixel values in float\n",
        "x_train=x_train/255.0\n",
        "x_test=x_test/255.0"
      ]
    },
    {
      "cell_type": "code",
      "execution_count": 18,
      "metadata": {
        "id": "UVYSs7UNLkgl"
      },
      "outputs": [],
      "source": []
    },
    {
      "cell_type": "markdown",
      "metadata": {
        "id": "8v0aSwtFOTfq"
      },
      "source": [
        "## Question 3"
      ]
    },
    {
      "cell_type": "markdown",
      "metadata": {
        "id": "QjNrRTdoQlC5"
      },
      "source": [
        "### Create a Deep Neural Network Model for Classification\n",
        "- Initialize a Sequential model\n",
        "- Reshape the 28X28 images into 1d array with 784 features\n",
        "- Add 3 hidden layer with activation relu\n",
        "- Add dropout layer after each hidden layer\n",
        "- Add a Dense layer with 10 neuron as output, use activation softmax\n",
        "\n",
        "The output layer has **number of neurons = number of classes** if activation is softmax.\n",
        "\n",
        "Softmax is used for multi-class classification\n",
        "  \n"
      ]
    },
    {
      "cell_type": "markdown",
      "metadata": {
        "id": "CDJ9DHVNQlC7"
      },
      "source": [
        "### Initialize model and reshape the data for the input layer"
      ]
    },
    {
      "cell_type": "code",
      "execution_count": 19,
      "metadata": {
        "id": "pCDQs_g1QlC8"
      },
      "outputs": [],
      "source": [
        "from keras.layers import Dense,Input,Dropout\n",
        "\n",
        "#Reshaping 28x28 into 784 features of 1 array\n",
        "num_features = 784\n",
        "x_train = tf.reshape(x_train,[-1,num_features])\n",
        "x_test = tf.reshape(x_test,[-1,num_features])\n",
        "\n",
        "#Initialization of Model and input layer\n",
        "model = tf.keras.Sequential()\n",
        "model.add(tf.keras.Input(shape=(num_features,)))\n"
      ]
    },
    {
      "cell_type": "markdown",
      "metadata": {
        "id": "kBGwTTilQlDD"
      },
      "source": [
        "### Add hidden layers\n",
        "- Add 3 fully-connected layers with 300, 200, and 100 neurons respectively with `relu` activations. Add a dropout layer with `p=0.15` after each hidden layer"
      ]
    },
    {
      "cell_type": "code",
      "execution_count": 20,
      "metadata": {
        "id": "IXbfpfOzQlDF"
      },
      "outputs": [],
      "source": [
        "#3 Hidden layers with required specifications\n",
        "model.add(Dense(300,activation='relu'))\n",
        "model.add(Dropout(0.15))\n",
        "model.add(Dense(200,activation='relu'))\n",
        "model.add(Dropout(0.15))\n",
        "model.add(Dense(100,activation='relu'))\n",
        "model.add(Dropout(0.15))\n"
      ]
    },
    {
      "cell_type": "markdown",
      "metadata": {
        "id": "5I8f5otcQlDJ"
      },
      "source": [
        "### Add the output layer \n",
        "- Use a fully connected layer with 10 neurons with `softmax` activation.\n",
        "- Use `categorical_crossentropy` loss \n",
        "- Use `adam` optimizer with learning rate = 0.002 and train the network. \n",
        "\n",
        "### Also add callback, \n",
        "- such that if validation loss doesn't decreases consecutively 2 times, stop the training"
      ]
    },
    {
      "cell_type": "code",
      "execution_count": 21,
      "metadata": {
        "id": "JZkvKymSd0Sr"
      },
      "outputs": [],
      "source": [
        "from keras.callbacks import EarlyStopping\n",
        "\n",
        "#Outer Layer with 10 neurons for 10 outputs\n",
        "model.add(Dense(10,activation='softmax'))\n",
        "\n",
        "#Model compilation using Adam optimizer and categorical_crossentropy\n",
        "opt = tf.keras.optimizers.Adam(learning_rate=0.002)\n",
        "model.compile(optimizer=opt,loss='categorical_crossentropy',metrics=['accuracy'])\n",
        "\n",
        "#Callback to stop epochs for said condition\n",
        "stop_here = EarlyStopping(patience=2)"
      ]
    },
    {
      "cell_type": "markdown",
      "metadata": {
        "id": "xw-lg3ihDCoL"
      },
      "source": [
        "### Print model summary"
      ]
    },
    {
      "cell_type": "code",
      "execution_count": 22,
      "metadata": {
        "id": "7a_NcAhWEJPI",
        "colab": {
          "base_uri": "https://localhost:8080/",
          "height": 0
        },
        "outputId": "7c37602d-ffe3-4cac-dadd-705a08f13671"
      },
      "outputs": [
        {
          "output_type": "stream",
          "name": "stdout",
          "text": [
            "Model: \"sequential_1\"\n",
            "_________________________________________________________________\n",
            " Layer (type)                Output Shape              Param #   \n",
            "=================================================================\n",
            " dense_4 (Dense)             (None, 300)               235500    \n",
            "                                                                 \n",
            " dropout_3 (Dropout)         (None, 300)               0         \n",
            "                                                                 \n",
            " dense_5 (Dense)             (None, 200)               60200     \n",
            "                                                                 \n",
            " dropout_4 (Dropout)         (None, 200)               0         \n",
            "                                                                 \n",
            " dense_6 (Dense)             (None, 100)               20100     \n",
            "                                                                 \n",
            " dropout_5 (Dropout)         (None, 100)               0         \n",
            "                                                                 \n",
            " dense_7 (Dense)             (None, 10)                1010      \n",
            "                                                                 \n",
            "=================================================================\n",
            "Total params: 316,810\n",
            "Trainable params: 316,810\n",
            "Non-trainable params: 0\n",
            "_________________________________________________________________\n"
          ]
        }
      ],
      "source": [
        "#Model Summary\n",
        "model.summary()"
      ]
    },
    {
      "cell_type": "markdown",
      "metadata": {
        "id": "F07K1OrtQdM1"
      },
      "source": [
        "## Question 4"
      ]
    },
    {
      "cell_type": "markdown",
      "metadata": {
        "id": "y5ED_J8KGSha"
      },
      "source": [
        "###Train your model, use test data as validation set\n",
        "- epochs = 20\n",
        "- batch size = 32"
      ]
    },
    {
      "cell_type": "code",
      "execution_count": 23,
      "metadata": {
        "id": "iPxCM-CZEFcC",
        "colab": {
          "base_uri": "https://localhost:8080/",
          "height": 0
        },
        "outputId": "4970090c-aaf8-4e27-87a7-25b37d00354e"
      },
      "outputs": [
        {
          "output_type": "stream",
          "name": "stdout",
          "text": [
            "Epoch 1/20\n",
            "1875/1875 [==============================] - 9s 5ms/step - loss: 0.5559 - accuracy: 0.7990 - val_loss: 0.4645 - val_accuracy: 0.8319\n",
            "Epoch 2/20\n",
            "1875/1875 [==============================] - 9s 5ms/step - loss: 0.4362 - accuracy: 0.8423 - val_loss: 0.4089 - val_accuracy: 0.8541\n",
            "Epoch 3/20\n",
            "1875/1875 [==============================] - 9s 5ms/step - loss: 0.4044 - accuracy: 0.8562 - val_loss: 0.4027 - val_accuracy: 0.8552\n",
            "Epoch 4/20\n",
            "1875/1875 [==============================] - 9s 5ms/step - loss: 0.3833 - accuracy: 0.8626 - val_loss: 0.3766 - val_accuracy: 0.8650\n",
            "Epoch 5/20\n",
            "1875/1875 [==============================] - 9s 5ms/step - loss: 0.3727 - accuracy: 0.8660 - val_loss: 0.4003 - val_accuracy: 0.8605\n",
            "Epoch 6/20\n",
            "1875/1875 [==============================] - 9s 5ms/step - loss: 0.3593 - accuracy: 0.8703 - val_loss: 0.3726 - val_accuracy: 0.8718\n",
            "Epoch 7/20\n",
            "1875/1875 [==============================] - 9s 5ms/step - loss: 0.3513 - accuracy: 0.8721 - val_loss: 0.3684 - val_accuracy: 0.8715\n",
            "Epoch 8/20\n",
            "1875/1875 [==============================] - 9s 5ms/step - loss: 0.3448 - accuracy: 0.8759 - val_loss: 0.3591 - val_accuracy: 0.8701\n",
            "Epoch 9/20\n",
            "1875/1875 [==============================] - 8s 4ms/step - loss: 0.3412 - accuracy: 0.8755 - val_loss: 0.3538 - val_accuracy: 0.8701\n",
            "Epoch 10/20\n",
            "1875/1875 [==============================] - 9s 5ms/step - loss: 0.3364 - accuracy: 0.8789 - val_loss: 0.3591 - val_accuracy: 0.8752\n",
            "Epoch 11/20\n",
            "1875/1875 [==============================] - 9s 5ms/step - loss: 0.3313 - accuracy: 0.8803 - val_loss: 0.3582 - val_accuracy: 0.8718\n",
            "Epoch 12/20\n",
            "1875/1875 [==============================] - 9s 5ms/step - loss: 0.3231 - accuracy: 0.8831 - val_loss: 0.3495 - val_accuracy: 0.8761\n",
            "Epoch 13/20\n",
            "1875/1875 [==============================] - 9s 5ms/step - loss: 0.3221 - accuracy: 0.8843 - val_loss: 0.3494 - val_accuracy: 0.8753\n",
            "Epoch 14/20\n",
            "1875/1875 [==============================] - 8s 4ms/step - loss: 0.3131 - accuracy: 0.8865 - val_loss: 0.3588 - val_accuracy: 0.8725\n",
            "Epoch 15/20\n",
            "1875/1875 [==============================] - 9s 5ms/step - loss: 0.3142 - accuracy: 0.8881 - val_loss: 0.3401 - val_accuracy: 0.8818\n",
            "Epoch 16/20\n",
            "1875/1875 [==============================] - 8s 4ms/step - loss: 0.3034 - accuracy: 0.8889 - val_loss: 0.3613 - val_accuracy: 0.8795\n",
            "Epoch 17/20\n",
            "1875/1875 [==============================] - 9s 5ms/step - loss: 0.3101 - accuracy: 0.8881 - val_loss: 0.3607 - val_accuracy: 0.8748\n",
            "Epoch 18/20\n",
            "1875/1875 [==============================] - 9s 5ms/step - loss: 0.3035 - accuracy: 0.8899 - val_loss: 0.3587 - val_accuracy: 0.8780\n",
            "Epoch 19/20\n",
            "1875/1875 [==============================] - 9s 5ms/step - loss: 0.3018 - accuracy: 0.8909 - val_loss: 0.3549 - val_accuracy: 0.8778\n",
            "Epoch 20/20\n",
            "1875/1875 [==============================] - 8s 4ms/step - loss: 0.3027 - accuracy: 0.8913 - val_loss: 0.3648 - val_accuracy: 0.8803\n"
          ]
        }
      ],
      "source": [
        "#Training Model\n",
        "history = model.fit(x_train,y_train,batch_size=32,epochs=20,validation_data=(x_test,y_test),shuffle=True)"
      ]
    },
    {
      "cell_type": "markdown",
      "metadata": {
        "id": "sXBpO6KdQjad"
      },
      "source": [
        "### Evaluate the model on the test data"
      ]
    },
    {
      "cell_type": "code",
      "execution_count": 24,
      "metadata": {
        "id": "BEGoEzxWQoC5",
        "colab": {
          "base_uri": "https://localhost:8080/",
          "height": 0
        },
        "outputId": "f1e7b551-8c35-4867-beac-66e4eae54f9d"
      },
      "outputs": [
        {
          "output_type": "stream",
          "name": "stdout",
          "text": [
            "Test loss: 0.3647908568382263\n",
            "Test accuracy: 0.880299985408783\n"
          ]
        }
      ],
      "source": [
        "score = model.evaluate(x_test,y_test,verbose=0)\n",
        "print(\"Test loss:\", score[0])\n",
        "print(\"Test accuracy:\", score[1])"
      ]
    },
    {
      "cell_type": "markdown",
      "metadata": {
        "id": "MVPRUabPQod-"
      },
      "source": [
        "## Question 5"
      ]
    },
    {
      "cell_type": "markdown",
      "metadata": {
        "id": "6PuUwmyoEoYj"
      },
      "source": [
        "###Predict Labels of test data"
      ]
    },
    {
      "cell_type": "code",
      "execution_count": 25,
      "metadata": {
        "id": "XpN5Rf3Jx_MX",
        "colab": {
          "base_uri": "https://localhost:8080/",
          "height": 0
        },
        "outputId": "c232daa0-1353-4906-d29b-57d3ccbf0641"
      },
      "outputs": [
        {
          "output_type": "execute_result",
          "data": {
            "text/plain": [
              "array([[1.3649205e-13, 3.4128298e-15, 9.4117636e-17, ..., 3.4147798e-04,\n",
              "        7.7537116e-10, 9.9964809e-01],\n",
              "       [6.4450924e-06, 3.5540462e-14, 9.9952400e-01, ..., 3.1614008e-26,\n",
              "        9.3240910e-12, 4.6281187e-31],\n",
              "       [8.9872954e-23, 1.0000000e+00, 3.2098906e-30, ..., 0.0000000e+00,\n",
              "        5.0013486e-36, 0.0000000e+00],\n",
              "       ...,\n",
              "       [3.1777156e-06, 1.0363660e-15, 5.4042513e-09, ..., 2.7365864e-19,\n",
              "        9.9999189e-01, 1.9710648e-21],\n",
              "       [3.7504394e-22, 1.0000000e+00, 2.8541328e-28, ..., 0.0000000e+00,\n",
              "        6.5332618e-32, 0.0000000e+00],\n",
              "       [4.7018713e-17, 1.2564215e-29, 1.1730180e-22, ..., 5.1925758e-07,\n",
              "        5.4064790e-16, 1.5893713e-07]], dtype=float32)"
            ]
          },
          "metadata": {},
          "execution_count": 25
        }
      ],
      "source": [
        "y_pred= model.predict(x_test)\n",
        "y_pred"
      ]
    },
    {
      "cell_type": "markdown",
      "metadata": {
        "id": "0ywUnmD6Gb2C"
      },
      "source": [
        "###Print Confusion matrix of test data"
      ]
    },
    {
      "cell_type": "code",
      "execution_count": 26,
      "metadata": {
        "id": "1K_fySvE4r1l",
        "colab": {
          "base_uri": "https://localhost:8080/",
          "height": 363
        },
        "outputId": "1aa274a2-527a-427a-83db-c31be19b01b8"
      },
      "outputs": [
        {
          "output_type": "execute_result",
          "data": {
            "text/plain": [
              "            T-Shirt  Trouser  Pullover  Dress  Coat  Sandal  Shirt  Sneaker  \\\n",
              "T-Shirt         870        4        18     31     0       0    156        0   \n",
              "Trouser           2      969         0      2     1       0      0        0   \n",
              "Pullover         15        2       796     13    95       0    113        0   \n",
              "Dress            20       21         5    877    21       1     24        0   \n",
              "Coat              2        2       126     51   804       0     56        0   \n",
              "Sandal            1        0         0      0     0     959      0       12   \n",
              "Shirt            82        1        55     22    77       0    638        0   \n",
              "Sneaker           0        0         0      0     0      24      0      959   \n",
              "Bag               8        1         0      4     2       0     13        0   \n",
              "Ankle Boot        0        0         0      0     0      16      0       29   \n",
              "\n",
              "            Bag  Ankle Boot  \n",
              "T-Shirt       0           0  \n",
              "Trouser       0           0  \n",
              "Pullover      5           0  \n",
              "Dress         3           0  \n",
              "Coat          6           0  \n",
              "Sandal        2           5  \n",
              "Shirt         7           2  \n",
              "Sneaker       2          37  \n",
              "Bag         975           0  \n",
              "Ankle Boot    0         956  "
            ],
            "text/html": [
              "\n",
              "  <div id=\"df-24d5f978-631a-4742-b17f-13b08864a9f4\">\n",
              "    <div class=\"colab-df-container\">\n",
              "      <div>\n",
              "<style scoped>\n",
              "    .dataframe tbody tr th:only-of-type {\n",
              "        vertical-align: middle;\n",
              "    }\n",
              "\n",
              "    .dataframe tbody tr th {\n",
              "        vertical-align: top;\n",
              "    }\n",
              "\n",
              "    .dataframe thead th {\n",
              "        text-align: right;\n",
              "    }\n",
              "</style>\n",
              "<table border=\"1\" class=\"dataframe\">\n",
              "  <thead>\n",
              "    <tr style=\"text-align: right;\">\n",
              "      <th></th>\n",
              "      <th>T-Shirt</th>\n",
              "      <th>Trouser</th>\n",
              "      <th>Pullover</th>\n",
              "      <th>Dress</th>\n",
              "      <th>Coat</th>\n",
              "      <th>Sandal</th>\n",
              "      <th>Shirt</th>\n",
              "      <th>Sneaker</th>\n",
              "      <th>Bag</th>\n",
              "      <th>Ankle Boot</th>\n",
              "    </tr>\n",
              "  </thead>\n",
              "  <tbody>\n",
              "    <tr>\n",
              "      <th>T-Shirt</th>\n",
              "      <td>870</td>\n",
              "      <td>4</td>\n",
              "      <td>18</td>\n",
              "      <td>31</td>\n",
              "      <td>0</td>\n",
              "      <td>0</td>\n",
              "      <td>156</td>\n",
              "      <td>0</td>\n",
              "      <td>0</td>\n",
              "      <td>0</td>\n",
              "    </tr>\n",
              "    <tr>\n",
              "      <th>Trouser</th>\n",
              "      <td>2</td>\n",
              "      <td>969</td>\n",
              "      <td>0</td>\n",
              "      <td>2</td>\n",
              "      <td>1</td>\n",
              "      <td>0</td>\n",
              "      <td>0</td>\n",
              "      <td>0</td>\n",
              "      <td>0</td>\n",
              "      <td>0</td>\n",
              "    </tr>\n",
              "    <tr>\n",
              "      <th>Pullover</th>\n",
              "      <td>15</td>\n",
              "      <td>2</td>\n",
              "      <td>796</td>\n",
              "      <td>13</td>\n",
              "      <td>95</td>\n",
              "      <td>0</td>\n",
              "      <td>113</td>\n",
              "      <td>0</td>\n",
              "      <td>5</td>\n",
              "      <td>0</td>\n",
              "    </tr>\n",
              "    <tr>\n",
              "      <th>Dress</th>\n",
              "      <td>20</td>\n",
              "      <td>21</td>\n",
              "      <td>5</td>\n",
              "      <td>877</td>\n",
              "      <td>21</td>\n",
              "      <td>1</td>\n",
              "      <td>24</td>\n",
              "      <td>0</td>\n",
              "      <td>3</td>\n",
              "      <td>0</td>\n",
              "    </tr>\n",
              "    <tr>\n",
              "      <th>Coat</th>\n",
              "      <td>2</td>\n",
              "      <td>2</td>\n",
              "      <td>126</td>\n",
              "      <td>51</td>\n",
              "      <td>804</td>\n",
              "      <td>0</td>\n",
              "      <td>56</td>\n",
              "      <td>0</td>\n",
              "      <td>6</td>\n",
              "      <td>0</td>\n",
              "    </tr>\n",
              "    <tr>\n",
              "      <th>Sandal</th>\n",
              "      <td>1</td>\n",
              "      <td>0</td>\n",
              "      <td>0</td>\n",
              "      <td>0</td>\n",
              "      <td>0</td>\n",
              "      <td>959</td>\n",
              "      <td>0</td>\n",
              "      <td>12</td>\n",
              "      <td>2</td>\n",
              "      <td>5</td>\n",
              "    </tr>\n",
              "    <tr>\n",
              "      <th>Shirt</th>\n",
              "      <td>82</td>\n",
              "      <td>1</td>\n",
              "      <td>55</td>\n",
              "      <td>22</td>\n",
              "      <td>77</td>\n",
              "      <td>0</td>\n",
              "      <td>638</td>\n",
              "      <td>0</td>\n",
              "      <td>7</td>\n",
              "      <td>2</td>\n",
              "    </tr>\n",
              "    <tr>\n",
              "      <th>Sneaker</th>\n",
              "      <td>0</td>\n",
              "      <td>0</td>\n",
              "      <td>0</td>\n",
              "      <td>0</td>\n",
              "      <td>0</td>\n",
              "      <td>24</td>\n",
              "      <td>0</td>\n",
              "      <td>959</td>\n",
              "      <td>2</td>\n",
              "      <td>37</td>\n",
              "    </tr>\n",
              "    <tr>\n",
              "      <th>Bag</th>\n",
              "      <td>8</td>\n",
              "      <td>1</td>\n",
              "      <td>0</td>\n",
              "      <td>4</td>\n",
              "      <td>2</td>\n",
              "      <td>0</td>\n",
              "      <td>13</td>\n",
              "      <td>0</td>\n",
              "      <td>975</td>\n",
              "      <td>0</td>\n",
              "    </tr>\n",
              "    <tr>\n",
              "      <th>Ankle Boot</th>\n",
              "      <td>0</td>\n",
              "      <td>0</td>\n",
              "      <td>0</td>\n",
              "      <td>0</td>\n",
              "      <td>0</td>\n",
              "      <td>16</td>\n",
              "      <td>0</td>\n",
              "      <td>29</td>\n",
              "      <td>0</td>\n",
              "      <td>956</td>\n",
              "    </tr>\n",
              "  </tbody>\n",
              "</table>\n",
              "</div>\n",
              "      <button class=\"colab-df-convert\" onclick=\"convertToInteractive('df-24d5f978-631a-4742-b17f-13b08864a9f4')\"\n",
              "              title=\"Convert this dataframe to an interactive table.\"\n",
              "              style=\"display:none;\">\n",
              "        \n",
              "  <svg xmlns=\"http://www.w3.org/2000/svg\" height=\"24px\"viewBox=\"0 0 24 24\"\n",
              "       width=\"24px\">\n",
              "    <path d=\"M0 0h24v24H0V0z\" fill=\"none\"/>\n",
              "    <path d=\"M18.56 5.44l.94 2.06.94-2.06 2.06-.94-2.06-.94-.94-2.06-.94 2.06-2.06.94zm-11 1L8.5 8.5l.94-2.06 2.06-.94-2.06-.94L8.5 2.5l-.94 2.06-2.06.94zm10 10l.94 2.06.94-2.06 2.06-.94-2.06-.94-.94-2.06-.94 2.06-2.06.94z\"/><path d=\"M17.41 7.96l-1.37-1.37c-.4-.4-.92-.59-1.43-.59-.52 0-1.04.2-1.43.59L10.3 9.45l-7.72 7.72c-.78.78-.78 2.05 0 2.83L4 21.41c.39.39.9.59 1.41.59.51 0 1.02-.2 1.41-.59l7.78-7.78 2.81-2.81c.8-.78.8-2.07 0-2.86zM5.41 20L4 18.59l7.72-7.72 1.47 1.35L5.41 20z\"/>\n",
              "  </svg>\n",
              "      </button>\n",
              "      \n",
              "  <style>\n",
              "    .colab-df-container {\n",
              "      display:flex;\n",
              "      flex-wrap:wrap;\n",
              "      gap: 12px;\n",
              "    }\n",
              "\n",
              "    .colab-df-convert {\n",
              "      background-color: #E8F0FE;\n",
              "      border: none;\n",
              "      border-radius: 50%;\n",
              "      cursor: pointer;\n",
              "      display: none;\n",
              "      fill: #1967D2;\n",
              "      height: 32px;\n",
              "      padding: 0 0 0 0;\n",
              "      width: 32px;\n",
              "    }\n",
              "\n",
              "    .colab-df-convert:hover {\n",
              "      background-color: #E2EBFA;\n",
              "      box-shadow: 0px 1px 2px rgba(60, 64, 67, 0.3), 0px 1px 3px 1px rgba(60, 64, 67, 0.15);\n",
              "      fill: #174EA6;\n",
              "    }\n",
              "\n",
              "    [theme=dark] .colab-df-convert {\n",
              "      background-color: #3B4455;\n",
              "      fill: #D2E3FC;\n",
              "    }\n",
              "\n",
              "    [theme=dark] .colab-df-convert:hover {\n",
              "      background-color: #434B5C;\n",
              "      box-shadow: 0px 1px 3px 1px rgba(0, 0, 0, 0.15);\n",
              "      filter: drop-shadow(0px 1px 2px rgba(0, 0, 0, 0.3));\n",
              "      fill: #FFFFFF;\n",
              "    }\n",
              "  </style>\n",
              "\n",
              "      <script>\n",
              "        const buttonEl =\n",
              "          document.querySelector('#df-24d5f978-631a-4742-b17f-13b08864a9f4 button.colab-df-convert');\n",
              "        buttonEl.style.display =\n",
              "          google.colab.kernel.accessAllowed ? 'block' : 'none';\n",
              "\n",
              "        async function convertToInteractive(key) {\n",
              "          const element = document.querySelector('#df-24d5f978-631a-4742-b17f-13b08864a9f4');\n",
              "          const dataTable =\n",
              "            await google.colab.kernel.invokeFunction('convertToInteractive',\n",
              "                                                     [key], {});\n",
              "          if (!dataTable) return;\n",
              "\n",
              "          const docLinkHtml = 'Like what you see? Visit the ' +\n",
              "            '<a target=\"_blank\" href=https://colab.research.google.com/notebooks/data_table.ipynb>data table notebook</a>'\n",
              "            + ' to learn more about interactive tables.';\n",
              "          element.innerHTML = '';\n",
              "          dataTable['output_type'] = 'display_data';\n",
              "          await google.colab.output.renderOutput(dataTable, element);\n",
              "          const docLink = document.createElement('div');\n",
              "          docLink.innerHTML = docLinkHtml;\n",
              "          element.appendChild(docLink);\n",
              "        }\n",
              "      </script>\n",
              "    </div>\n",
              "  </div>\n",
              "  "
            ]
          },
          "metadata": {},
          "execution_count": 26
        }
      ],
      "source": [
        "from sklearn.metrics import accuracy_score, classification_report, confusion_matrix\n",
        "\n",
        "y_pred=np.argmax(y_pred, axis=1)\n",
        "y_test=np.argmax(y_test, axis=1)\n",
        "cm = confusion_matrix(y_pred,y_test)\n",
        "\n",
        "columns = ['T-Shirt','Trouser','Pullover','Dress','Coat','Sandal','Shirt','Sneaker','Bag','Ankle Boot']\n",
        "pd.DataFrame(cm,columns=columns,index=columns)"
      ]
    },
    {
      "cell_type": "markdown",
      "metadata": {
        "id": "_JNKRBORGul7"
      },
      "source": [
        "###Plot training accuracy vs validation accuracy\n",
        "###Plot training loss vs validation loss"
      ]
    },
    {
      "cell_type": "code",
      "execution_count": 27,
      "metadata": {
        "id": "3hqRNEXn-mBB",
        "colab": {
          "base_uri": "https://localhost:8080/",
          "height": 320
        },
        "outputId": "c7cf0001-88be-4a3e-fed1-7addaa30de64"
      },
      "outputs": [
        {
          "output_type": "display_data",
          "data": {
            "text/plain": [
              "<Figure size 576x360 with 1 Axes>"
            ],
            "image/png": "[encoded data removed]"
          },
          "metadata": {
            "needs_background": "light"
          }
        }
      ],
      "source": [
        "pd.DataFrame(history.history).plot(figsize=(8,5))\n",
        "plt.show()"
      ]
    },
    {
      "cell_type": "code",
      "source": [],
      "metadata": {
        "id": "fAS_ZoNKNbwc"
      },
      "execution_count": 27,
      "outputs": []
    },
    {
      "cell_type": "code",
      "source": [],
      "metadata": {
        "id": "TV7fPfZ1teDc"
      },
      "execution_count": null,
      "outputs": []
    }
  ],
  "metadata": {
    "accelerator": "GPU",
    "colab": {
      "collapsed_sections": [],
      "provenance": []
    },
    "kernelspec": {
      "display_name": "Python 3.10.4 64-bit",
      "language": "python",
      "name": "python3"
    },
    "language_info": {
      "codemirror_mode": {
        "name": "ipython",
        "version": 3
      },
      "file_extension": ".py",
      "mimetype": "text/x-python",
      "name": "python",
      "nbconvert_exporter": "python",
      "pygments_lexer": "ipython3",
      "version": "3.10.4"
    },
    "vscode": {
      "interpreter": {
        "hash": "bfeff44a097060c1005058e3c226e096c000f5eb83e7fca14ed68da84b5dea0a"
      }
    }
  },
  "nbformat": 4,
  "nbformat_minor": 0
}